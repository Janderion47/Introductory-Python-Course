{
 "cells": [
  {
   "cell_type": "code",
   "execution_count": null,
   "id": "19ae1940",
   "metadata": {},
   "outputs": [],
   "source": [
    "#number 1\n",
    "Andy = ['A', 'A', 'C', 'G']\n",
    "Ben = ('T', 'T', 'G', 'C')"
   ]
  },
  {
   "cell_type": "code",
   "execution_count": 5,
   "id": "187ae9d8",
   "metadata": {},
   "outputs": [
    {
     "name": "stdout",
     "output_type": "stream",
     "text": [
      "['Baycare', 30, 'AdventHealth', 40, 'TampaGeneral', 65]\n",
      "{'Baycare': 30, 'AdventHealth': 40, 'TampaGeneral': 65}\n"
     ]
    }
   ],
   "source": [
    "#number 2\n",
    "hospitalsandpatients = ([\n",
    "    'Baycare', 30,\n",
    "    'AdventHealth', 40,\n",
    "    'TampaGeneral', 65\n",
    "])\n",
    "hospandpat = {\n",
    "    'Baycare' : 30,\n",
    "    'AdventHealth' : 40,\n",
    "    'TampaGeneral' : 65\n",
    "}\n",
    "print(hospitalsandpatients)\n",
    "print(hospandpat)"
   ]
  },
  {
   "cell_type": "code",
   "execution_count": 7,
   "id": "1fb1bb81",
   "metadata": {},
   "outputs": [
    {
     "name": "stdout",
     "output_type": "stream",
     "text": [
      "0.0003\n",
      "2000\n",
      "<class 'float'>\n",
      "<class 'str'>\n"
     ]
    }
   ],
   "source": [
    "#number 3\n",
    "print(3e-4)\n",
    "print(2_000)\n",
    "print(type(2.56))\n",
    "print(type(hospitalsandpatients[2]))"
   ]
  },
  {
   "cell_type": "code",
   "execution_count": null,
   "id": "76f018bf",
   "metadata": {},
   "outputs": [],
   "source": []
  }
 ],
 "metadata": {
  "kernelspec": {
   "display_name": "Python 3 (ipykernel)",
   "language": "python",
   "name": "python3"
  },
  "language_info": {
   "codemirror_mode": {
    "name": "ipython",
    "version": 3
   },
   "file_extension": ".py",
   "mimetype": "text/x-python",
   "name": "python",
   "nbconvert_exporter": "python",
   "pygments_lexer": "ipython3",
   "version": "3.10.9"
  }
 },
 "nbformat": 4,
 "nbformat_minor": 5
}
